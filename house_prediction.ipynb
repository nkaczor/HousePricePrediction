{
 "cells": [
  {
   "cell_type": "code",
   "execution_count": 249,
   "metadata": {
    "collapsed": false
   },
   "outputs": [],
   "source": [
    "import numpy as np\n",
    "import pandas as pd\n",
    "import matplotlib.pyplot as plt\n",
    "\n",
    "rawTrainData = pd.read_csv(\"./train.csv\")\n",
    "rawTestX = pd.read_csv(\"./test.csv\")\n",
    "\n",
    "rawTrainX = trainData.drop(['SalePrice'], axis=1);\n",
    "rawTrainY = trainData['SalePrice']\n",
    "\n",
    "rawFull = rawTrainX.append(rawTestX, ignore_index = True )"
   ]
  },
  {
   "cell_type": "code",
   "execution_count": 250,
   "metadata": {
    "collapsed": false
   },
   "outputs": [],
   "source": [
    "def replace_empties(df):\n",
    "    change_to_none = ['Alley',\n",
    "    'BsmtCond','BsmtQual','BsmtExposure',\n",
    "    'BsmtFinType1', 'BsmtFinType2',\n",
    "    'FireplaceQu',\n",
    "    'GarageType', 'GarageFinish', 'GarageQual', 'GarageCond',\n",
    "    'PoolQC',\n",
    "    'Fence',\n",
    "    'MiscFeature']\n",
    "    \n",
    "    change_to_0 = ['BsmtFullBath', 'BsmtHalfBath', 'TotalBsmtSF',\n",
    "     'BsmtFinSF1', 'BsmtFinSF2', 'BsmtUnfSF',\n",
    "     'GarageArea', 'GarageCars'];\n",
    " \n",
    "    df[change_to_none] = df[change_to_none].fillna('None')\n",
    "    df[change_to_0] = df[change_to_0].fillna(0)\n",
    "    df['GarageYrBlt'] = df['GarageYrBlt'].fillna(df.YearBuilt)\n",
    "    \n",
    "    stringTypes = df.select_dtypes(include = [object]).columns\n",
    "    numericTypes = df.select_dtypes(exclude=['object']).columns\n",
    "\n",
    "    df[stringTypes] = df[stringTypes].fillna(df[stringTypes].median())\n",
    "    df[numericTypes] = df[numericTypes].fillna(df[numericTypes].mean())\n",
    "\n",
    "    return df"
   ]
  },
  {
   "cell_type": "code",
   "execution_count": 251,
   "metadata": {
    "collapsed": false
   },
   "outputs": [],
   "source": [
    "def get_dummies(df):\n",
    "    stringTypes = df.select_dtypes(include = [object]).columns\n",
    "    dummies = pd.get_dummies(df[stringTypes])\n",
    "    df = df.drop(columns=stringTypes);\n",
    "    df = df.join(dummies)\n",
    "    return df"
   ]
  },
  {
   "cell_type": "code",
   "execution_count": 259,
   "metadata": {
    "collapsed": false
   },
   "outputs": [],
   "source": [
    "def normalize_features(df):\n",
    "    df=(df-df.mean())/df.std()\n",
    "    return df"
   ]
  },
  {
   "cell_type": "code",
   "execution_count": 260,
   "metadata": {
    "collapsed": false
   },
   "outputs": [],
   "source": [
    "def transform_features(df):\n",
    "    df = replace_empties(df)\n",
    "    df = get_dummies(df)\n",
    "    df = normalize_features(df)\n",
    "    return df"
   ]
  },
  {
   "cell_type": "code",
   "execution_count": 276,
   "metadata": {
    "collapsed": false
   },
   "outputs": [],
   "source": [
    "def train(X, y, iterations = 100000, alfa = 0.01):\n",
    "    w = np.random.rand(X.shape[1])\n",
    "    b = 0.5\n",
    "    \n",
    "    m = X.shape[0]\n",
    "    \n",
    "    x_numpy = X.values\n",
    "    y_numpy = y.values\n",
    "    for i in range(0, iterations): \n",
    "        pred_y = (np.dot(x_numpy, w) + b)\n",
    "        w = w - (alfa/m * np.dot(x_numpy.T, pred_y - y_numpy))\n",
    "        b = b - (alfa/m * np.sum(pred_y - y_numpy)) \n",
    "    pred_y = (np.dot(x_numpy, w) + b)\n",
    "    J = np.sum((pred_y - y_numpy) * (pred_y - y_numpy)) /m\n",
    "    print(J, J> 100)"
   ]
  },
  {
   "cell_type": "code",
   "execution_count": 277,
   "metadata": {
    "collapsed": false
   },
   "outputs": [
    {
     "name": "stdout",
     "output_type": "stream",
     "text": [
      "420758986.576 True\n"
     ]
    }
   ],
   "source": [
    "newX = transform_features(rawFull)\n",
    "newTrainX = newX.iloc[0:trainData.shape[0]].drop(['Id'], axis=1);\n",
    "train(newTrainX, trainY)"
   ]
  },
  {
   "cell_type": "code",
   "execution_count": null,
   "metadata": {
    "collapsed": true
   },
   "outputs": [],
   "source": []
  },
  {
   "cell_type": "code",
   "execution_count": null,
   "metadata": {
    "collapsed": true
   },
   "outputs": [],
   "source": []
  }
 ],
 "metadata": {
  "kernelspec": {
   "display_name": "Python 3",
   "language": "python",
   "name": "python3"
  }
 },
 "nbformat": 4,
 "nbformat_minor": 0
}
