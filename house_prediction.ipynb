{
 "cells": [
  {
   "cell_type": "code",
   "execution_count": 83,
   "metadata": {
    "collapsed": false
   },
   "outputs": [],
   "source": [
    "import numpy as np\n",
    "import pandas as pd\n",
    "import matplotlib.pyplot as plt\n",
    "\n",
    "rawTrainData = pd.read_csv(\"./train.csv\")\n",
    "rawTestX = pd.read_csv(\"./test.csv\")\n",
    "\n",
    "rawTrainX = rawTrainData.drop(['SalePrice'], axis=1);\n",
    "trainY = rawTrainData['SalePrice']\n",
    "\n",
    "rawFull = rawTrainX.append(rawTestX, ignore_index = True )"
   ]
  },
  {
   "cell_type": "code",
   "execution_count": 84,
   "metadata": {
    "collapsed": false
   },
   "outputs": [],
   "source": [
    "def replace_empties(df):\n",
    "    change_to_none = ['Alley',\n",
    "    'BsmtCond','BsmtQual','BsmtExposure',\n",
    "    'BsmtFinType1', 'BsmtFinType2',\n",
    "    'FireplaceQu',\n",
    "    'GarageType', 'GarageFinish', 'GarageQual', 'GarageCond',\n",
    "    'PoolQC',\n",
    "    'Fence',\n",
    "    'MiscFeature']\n",
    "    \n",
    "    change_to_0 = ['BsmtFullBath', 'BsmtHalfBath', 'TotalBsmtSF',\n",
    "     'BsmtFinSF1', 'BsmtFinSF2', 'BsmtUnfSF',\n",
    "     'GarageArea', 'GarageCars'];\n",
    " \n",
    "    df[change_to_none] = df[change_to_none].fillna('None')\n",
    "    df[change_to_0] = df[change_to_0].fillna(0)\n",
    "    df['GarageYrBlt'] = df['GarageYrBlt'].fillna(df.YearBuilt)\n",
    "    \n",
    "    stringTypes = df.select_dtypes(include = [object]).columns\n",
    "    numericTypes = df.select_dtypes(exclude=['object']).columns\n",
    "\n",
    "    df[stringTypes] = df[stringTypes].fillna(df[stringTypes].median())\n",
    "    df[numericTypes] = df[numericTypes].fillna(df[numericTypes].mean())\n",
    "\n",
    "    return df"
   ]
  },
  {
   "cell_type": "code",
   "execution_count": 85,
   "metadata": {
    "collapsed": false
   },
   "outputs": [],
   "source": [
    "def get_dummies(df):\n",
    "    stringTypes = df.select_dtypes(include = [object]).columns\n",
    "    dummies = pd.get_dummies(df[stringTypes])\n",
    "    df = df.drop(columns=stringTypes);\n",
    "    df = df.join(dummies)\n",
    "    return df"
   ]
  },
  {
   "cell_type": "code",
   "execution_count": 86,
   "metadata": {
    "collapsed": false
   },
   "outputs": [],
   "source": [
    "def normalize_features(df):\n",
    "    df.iloc[:,1:]=(df.iloc[:,1:]-df.iloc[:,1:].mean())/df.iloc[:,1:].std()\n",
    "    return df"
   ]
  },
  {
   "cell_type": "code",
   "execution_count": 87,
   "metadata": {
    "collapsed": false
   },
   "outputs": [],
   "source": [
    "def transform_features(df):\n",
    "    df = replace_empties(df)\n",
    "    df = get_dummies(df)\n",
    "    df = normalize_features(df)\n",
    "    return df"
   ]
  },
  {
   "cell_type": "code",
   "execution_count": 101,
   "metadata": {
    "collapsed": false
   },
   "outputs": [],
   "source": [
    "def train(X, y, iterations = 10000, alfa = 0.005):\n",
    "    w = np.random.rand(X.shape[1])\n",
    "    b = 0.5\n",
    "    \n",
    "    m = X.shape[0]\n",
    "    \n",
    "    x_numpy = X.values\n",
    "    y_numpy = y.values\n",
    "    for i in range(0, iterations): \n",
    "        pred_y = (np.dot(x_numpy, w) + b)\n",
    "        w = w - (alfa/m * np.dot(x_numpy.T, pred_y - y_numpy))\n",
    "        b = b - (alfa/m * np.sum(pred_y - y_numpy)) \n",
    "    #pred_y = (np.dot(x_numpy, w) + b)\n",
    "    #J = np.sum((pred_y - y_numpy)**2) / m\n",
    "    #print(J)\n",
    "    return w, b"
   ]
  },
  {
   "cell_type": "code",
   "execution_count": 102,
   "metadata": {
    "collapsed": false
   },
   "outputs": [],
   "source": [
    "def save_results(X, w, b):\n",
    "    out = open('output_1.csv', \"w\")\n",
    "    out.write(\"Id,SalePrice\\n\")\n",
    "\n",
    "    x_test_numpy = X.drop(['Id'], axis=1).values\n",
    "    res = np.dot(x_test_numpy, w) + b\n",
    "\n",
    "    rows = [''] * X.shape[0]\n",
    "    for num in range(0, X.shape[0]):\n",
    "        label = max(res[num], 0)\n",
    "        id = newTestX['Id'].iloc[num]\n",
    "        rows[num] = \"%d,%f\\n\"%(id,label)\n",
    "\n",
    "    out.writelines(rows)\n",
    "    out.close()"
   ]
  },
  {
   "cell_type": "code",
   "execution_count": 103,
   "metadata": {
    "collapsed": false
   },
   "outputs": [
    {
     "name": "stdout",
     "output_type": "stream",
     "text": [
      "420840299.017\n"
     ]
    }
   ],
   "source": [
    "newX = transform_features(rawFull)\n",
    "newTrainX = newX.iloc[0:rawTrainData.shape[0]].drop(['Id'], axis=1);\n",
    "newTestX = newX.iloc[rawTrainData.shape[0]:]\n",
    "\n",
    "w, b = train(newTrainX, trainY)\n",
    "save_results(newTestX, w, b)\n"
   ]
  },
  {
   "cell_type": "code",
   "execution_count": null,
   "metadata": {
    "collapsed": true
   },
   "outputs": [],
   "source": []
  }
 ],
 "metadata": {
  "kernelspec": {
   "display_name": "Python 3",
   "language": "python",
   "name": "python3"
  },
  "language_info": {
   "codemirror_mode": {
    "name": "ipython",
    "version": 3
   },
   "file_extension": ".py",
   "mimetype": "text/x-python",
   "name": "python",
   "nbconvert_exporter": "python",
   "pygments_lexer": "ipython3",
   "version": "3.5.0"
  }
 },
 "nbformat": 4,
 "nbformat_minor": 0
}
